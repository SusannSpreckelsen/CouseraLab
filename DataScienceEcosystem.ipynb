{
 "cells": [
  {
   "cell_type": "markdown",
   "id": "455c370a-da0c-4893-86e5-1381d6c40ac0",
   "metadata": {},
   "source": [
    "# Data Science Tools and Ecosystem"
   ]
  },
  {
   "cell_type": "markdown",
   "id": "dc1f1fd4-c590-41c0-96da-38a1ff27f01c",
   "metadata": {},
   "source": [
    "__Objectives:__"
   ]
  },
  {
   "cell_type": "markdown",
   "id": "38309394-8951-47e3-9328-6a295d2cb46c",
   "metadata": {},
   "source": [
    "- List popular languages for Data Science\n",
    "- List of commonly used libraries\n",
    "- Data Science Tool\n",
    "- some examples of evaluating arithmetic expressions in Python\n",
    "\n"
   ]
  },
  {
   "cell_type": "markdown",
   "id": "4729ea7c-6a4b-4a33-ab18-f62fcb3d5411",
   "metadata": {},
   "source": [
    "In this notebook, Data Science Tools and Ecosystem are summarized."
   ]
  },
  {
   "cell_type": "markdown",
   "id": "9e87bfd2-64f3-4184-b21b-9e6d7402ff56",
   "metadata": {},
   "source": [
    "Some of the popular languages that Data Scientists use are:"
   ]
  },
  {
   "cell_type": "markdown",
   "id": "563af9c4-4519-4c18-9358-4f95925a57c1",
   "metadata": {},
   "source": [
    "1. Python\n",
    "2. R\n",
    "3. SQL"
   ]
  },
  {
   "cell_type": "markdown",
   "id": "3f4cab16-a3ce-4ae2-abbe-f542e274ffaf",
   "metadata": {},
   "source": [
    "Some of the commonly used libraries used by Data Scientists include:"
   ]
  },
  {
   "cell_type": "markdown",
   "id": "00c7e389-082b-439d-8071-88759b73475f",
   "metadata": {},
   "source": [
    "- NumPy\n",
    "- Pandas\n",
    "- Scikit-Learn\n"
   ]
  },
  {
   "cell_type": "markdown",
   "id": "8551479e-9ff7-4066-8612-2bd502d47269",
   "metadata": {},
   "source": [
    "\n",
    "| Data Science Tools |\n",
    "| --- |\n",
    "| Jupyter Notebook |\n",
    "| R Studio |\n",
    "| TensorFlow |\n",
    "| Apache Spark |\n",
    "| Anaconda |\n",
    "\n"
   ]
  },
  {
   "cell_type": "markdown",
   "id": "1b4be0cf-41ab-42ec-ae7e-1a406acff121",
   "metadata": {},
   "source": [
    "### Below are a few examples of evaluating arithmetic expressions in Python:"
   ]
  },
  {
   "cell_type": "code",
   "execution_count": 33,
   "id": "8a089476-d861-40f8-8364-3e139033a499",
   "metadata": {},
   "outputs": [
    {
     "data": {
      "text/plain": [
       "17"
      ]
     },
     "execution_count": 33,
     "metadata": {},
     "output_type": "execute_result"
    }
   ],
   "source": [
    "# This a simple arithmetic expression to mutiply then add integer\n",
    "(3*4)+5"
   ]
  },
  {
   "cell_type": "code",
   "execution_count": 35,
   "id": "cfb39ce8-7a27-441e-80f0-800276367c0b",
   "metadata": {},
   "outputs": [
    {
     "data": {
      "text/plain": [
       "3.3333333333333335"
      ]
     },
     "execution_count": 35,
     "metadata": {},
     "output_type": "execute_result"
    }
   ],
   "source": [
    "# This will convert 200 minutes to hours by diving by 60\n",
    "200/60"
   ]
  },
  {
   "cell_type": "markdown",
   "id": "5b1083b0-5fa3-49a5-a769-a697d3feb4bb",
   "metadata": {},
   "source": [
    "## Auther:\n",
    "Susann Spreckelsen"
   ]
  },
  {
   "cell_type": "code",
   "execution_count": null,
   "id": "806ab9f7-4855-4bf4-b833-7eb340c4c652",
   "metadata": {},
   "outputs": [],
   "source": []
  }
 ],
 "metadata": {
  "kernelspec": {
   "display_name": "Python 3 (ipykernel)",
   "language": "python",
   "name": "python3"
  },
  "language_info": {
   "codemirror_mode": {
    "name": "ipython",
    "version": 3
   },
   "file_extension": ".py",
   "mimetype": "text/x-python",
   "name": "python",
   "nbconvert_exporter": "python",
   "pygments_lexer": "ipython3",
   "version": "3.12.4"
  }
 },
 "nbformat": 4,
 "nbformat_minor": 5
}
